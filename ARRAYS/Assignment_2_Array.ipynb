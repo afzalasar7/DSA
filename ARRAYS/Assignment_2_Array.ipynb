{
  "nbformat": 4,
  "nbformat_minor": 0,
  "metadata": {
    "colab": {
      "provenance": [],
      "authorship_tag": "ABX9TyNQELe1ziw9dVUZRwAPlEzE",
      "include_colab_link": true
    },
    "kernelspec": {
      "name": "python3",
      "display_name": "Python 3"
    },
    "language_info": {
      "name": "python"
    }
  },
  "cells": [
    {
      "cell_type": "markdown",
      "metadata": {
        "id": "view-in-github",
        "colab_type": "text"
      },
      "source": [
        "<a href=\"https://colab.research.google.com/github/afzalasar7/DSA/blob/main/ARRAYS/Assignment_2_Array.ipynb\" target=\"_parent\"><img src=\"https://colab.research.google.com/assets/colab-badge.svg\" alt=\"Open In Colab\"/></a>"
      ]
    },
    {
      "cell_type": "markdown",
      "source": [
        "#Given an integer array nums of 2n integers, group these integers into n pairs (a1, b1), (a2, b2),..., (an, bn) such that the sum of min(ai, bi) for all i is maximized. Return the maximized sum.\n",
        "\n",
        "Example 1:\n",
        "Input: nums = [1,4,3,2]\n",
        "Output: 4"
      ],
      "metadata": {
        "id": "RpHLpAF3PtAf"
      }
    },
    {
      "cell_type": "code",
      "source": [
        "def arrayNums(nums):\n",
        "    nums.sort()\n",
        "    return(sum(nums[::2]))\n",
        "nums = [1,4,3,2]\n",
        "arrayNums(nums)"
      ],
      "metadata": {
        "colab": {
          "base_uri": "https://localhost:8080/"
        },
        "id": "5vovQXguQXB7",
        "outputId": "29e3efc3-8d0c-4ae1-f980-9238398260dc"
      },
      "execution_count": null,
      "outputs": [
        {
          "output_type": "execute_result",
          "data": {
            "text/plain": [
              "4"
            ]
          },
          "metadata": {},
          "execution_count": 3
        }
      ]
    },
    {
      "cell_type": "markdown",
      "source": [
        "# Alice has n candies, where the ith candy is of type candyType[i]. Alice noticed that she started to gain weight, so she visited a doctor.\n",
        "\n",
        "The doctor advised Alice to only eat n / 2 of the candies she has (n is always even). Alice likes her candies very much, and she wants to eat the maximum number of different types of candies while still following the doctor's advice.\n",
        "\n",
        "Given the integer array candyType of length n, return the maximum number of different types of candies she can eat if she only eats n / 2 of them.\n",
        "\n",
        "Example 1:\n",
        "Input: candyType = [1,1,2,2,3,3]\n",
        "Output: 3\n"
      ],
      "metadata": {
        "id": "0tsPxdjHQp0P"
      }
    },
    {
      "cell_type": "code",
      "source": [
        "def Candies(candyType):\n",
        "    n = len(candyType) // 2\n",
        "    LEN = len(set(candyType))\n",
        "    return min(n, LEN)\n",
        "candyType = [1,1,2,2,3,3]\n",
        "Candies(candyType)"
      ],
      "metadata": {
        "colab": {
          "base_uri": "https://localhost:8080/"
        },
        "id": "TZN_87zhRfsJ",
        "outputId": "30df512a-b082-451b-e93e-af05df75a573"
      },
      "execution_count": null,
      "outputs": [
        {
          "output_type": "execute_result",
          "data": {
            "text/plain": [
              "3"
            ]
          },
          "metadata": {},
          "execution_count": 4
        }
      ]
    },
    {
      "cell_type": "markdown",
      "source": [
        "Question 3\n",
        "We define a harmonious array as an array where the difference between its maximum value\n",
        "and its minimum value is exactly 1.\n",
        "\n",
        "Given an integer array nums, return the length of its longest harmonious subsequence\n",
        "among all its possible subsequences.\n",
        "\n",
        "A subsequence of an array is a sequence that can be derived from the array by deleting some or no elements without changing the order of the remaining elements.\n",
        "\n",
        "Example 1:\n",
        "Input: nums = [1,3,2,2,5,2,3,7]\n",
        "Output: 5\n",
        "\n",
        "Explanation: The longest harmonious subsequence is [3,2,2,2,3]."
      ],
      "metadata": {
        "id": "4x31ss-yRxG4"
      }
    },
    {
      "cell_type": "code",
      "source": [
        "def longestHarmoniousSubsequence(nums):\n",
        "  letter = {}\n",
        "  ans = 0\n",
        "  for i in nums:\n",
        "      if i not in letter:\n",
        "          letter[i] = 1\n",
        "      else:\n",
        "          letter[i]+=1\n",
        "  for i in letter:\n",
        "      if i+1 in letter.keys():\n",
        "          ans = max(ans, letter[i]+letter[i+1])\n",
        "  return ans\n",
        "nums = [1,3,2,2,5,2,3,7]\n",
        "longestHarmoniousSubsequence(nums)"
      ],
      "metadata": {
        "id": "vEfqiDojSKjQ",
        "colab": {
          "base_uri": "https://localhost:8080/"
        },
        "outputId": "17da4fa6-78cd-4d01-eaa1-3082534c0644"
      },
      "execution_count": 8,
      "outputs": [
        {
          "output_type": "execute_result",
          "data": {
            "text/plain": [
              "5"
            ]
          },
          "metadata": {},
          "execution_count": 8
        }
      ]
    },
    {
      "cell_type": "markdown",
      "source": [
        "Question 4\n",
        "You have a long flowerbed in which some of the plots are planted, and some are not.\n",
        "However, flowers cannot be planted in adjacent plots.\n",
        "Given an integer array flowerbed containing 0's and 1's, where 0 means empty and 1 means not empty, and an integer n, return true if n new flowers can be planted in the flowerbed without violating the no-adjacent-flowers rule and false otherwise.\n",
        "\n",
        "Example 1:\n",
        "Input: flowerbed = [1,0,0,0,1], n = 1\n",
        "Output: true"
      ],
      "metadata": {
        "id": "zdGXHQvASuJY"
      }
    },
    {
      "cell_type": "code",
      "source": [
        "def canPlaceFlowers(flowerbed,n):\n",
        "    f = [0] + flowerbed + [0]\n",
        "\n",
        "    for i in range(1, len(f) - 1):  # skip first & last\n",
        "        if f[i - 1] == 0 and f[i] == 0 and f[i + 1] == 0:\n",
        "            f[i] = 1\n",
        "            n -= 1\n",
        "    return n <= 0\n",
        "\n",
        "flowerbed = [1,0,0,0,1]\n",
        "n = 1\n",
        "canPlaceFlowers(flowerbed, n)"
      ],
      "metadata": {
        "id": "_M9jlwo9S636",
        "colab": {
          "base_uri": "https://localhost:8080/"
        },
        "outputId": "18d7a383-8660-4e50-c4dd-b4a7458bf39d"
      },
      "execution_count": 9,
      "outputs": [
        {
          "output_type": "execute_result",
          "data": {
            "text/plain": [
              "True"
            ]
          },
          "metadata": {},
          "execution_count": 9
        }
      ]
    },
    {
      "cell_type": "markdown",
      "source": [
        "Question 5\n",
        "\n",
        "*Given* an integer array nums, find three numbers whose product is maximum and return the maximum product.\n",
        "\n",
        "**Example 1:**\n",
        "Input: nums = [1,2,3]\n",
        "Output: 6\n"
      ],
      "metadata": {
        "id": "EZplCMr-UK-r"
      }
    },
    {
      "cell_type": "code",
      "source": [
        "def maximumProduct(nums):\n",
        "    nums.sort()\n",
        "    l1 = nums[-1]*nums[-2]*nums[-3]\n",
        "    l2 = nums[0]*nums[1]*nums[-1]\n",
        "    return max(l1,l2)\n",
        "nums = [1,2,3]\n",
        "maximumProduct(nums)"
      ],
      "metadata": {
        "colab": {
          "base_uri": "https://localhost:8080/"
        },
        "id": "6qCrMs-JWP_w",
        "outputId": "081f554c-ef25-40cb-fca8-3c698b7ff011"
      },
      "execution_count": 10,
      "outputs": [
        {
          "output_type": "execute_result",
          "data": {
            "text/plain": [
              "6"
            ]
          },
          "metadata": {},
          "execution_count": 10
        }
      ]
    },
    {
      "cell_type": "markdown",
      "source": [
        "Question 6\n",
        "Given an array of integers nums which is sorted in ascending order, and an integer target,\n",
        "write a function to search target in nums. If target exists, then return its index. Otherwise,\n",
        "return -1.\n",
        "\n",
        "You must write an algorithm with O(log n) runtime complexity.\n",
        "\n",
        "Input: nums = [-1,0,3,5,9,12], target = 9\n",
        "Output: 4\n",
        "\n",
        "Explanation: 9 exists in nums and its index is 4"
      ],
      "metadata": {
        "id": "QkhM-uZoVf-k"
      }
    },
    {
      "cell_type": "code",
      "source": [
        "def search(nums,target) :\n",
        "    left = 0\n",
        "    right = len(nums)-1\n",
        "\n",
        "    while left<=right:\n",
        "        mid = (left+right)//2\n",
        "        if nums[mid]==target:\n",
        "            return mid\n",
        "        elif nums[mid]>target:\n",
        "            right = mid-1\n",
        "        else:\n",
        "            left = mid+1\n",
        "\n",
        "    return -1\n",
        "\n",
        "nums = [-1,0,3,5,9,12]\n",
        "target = 9\n",
        "search(nums,target)"
      ],
      "metadata": {
        "colab": {
          "base_uri": "https://localhost:8080/"
        },
        "id": "5JuKk-dGW2uQ",
        "outputId": "bedbf5cb-25e4-4b81-9557-d3b74e3e56c5"
      },
      "execution_count": 11,
      "outputs": [
        {
          "output_type": "execute_result",
          "data": {
            "text/plain": [
              "4"
            ]
          },
          "metadata": {},
          "execution_count": 11
        }
      ]
    },
    {
      "cell_type": "markdown",
      "source": [
        "Question 7\n",
        "An array is monotonic if it is either monotone increasing or monotone decreasing.\n",
        "\n",
        "An array nums is monotone increasing if for all i <= j, nums[i] <= nums[j]. An array nums is\n",
        "monotone decreasing if for all i <= j, nums[i] >= nums[j].\n",
        "\n",
        "Given an integer array nums, return true if the given array is monotonic, or false otherwise.\n",
        "\n",
        "Example 1:\n",
        "Input: nums = [1,2,2,3]\n",
        "Output: true"
      ],
      "metadata": {
        "id": "cqn8WoWqWxUG"
      }
    },
    {
      "cell_type": "code",
      "source": [
        "def isMonotonic(nums):\n",
        "    inc = True\n",
        "    dec = True\n",
        "    for i in range(1,len(nums)):\n",
        "        inc = inc and nums[i-1] >= nums[i]\n",
        "        dec = dec and nums[i-1] <= nums[i]\n",
        "    return inc or dec\n",
        "nums = [1,2,2,3]\n",
        "isMonotonic(nums)"
      ],
      "metadata": {
        "colab": {
          "base_uri": "https://localhost:8080/"
        },
        "id": "PaVuFPbrXxEs",
        "outputId": "72f3e944-d13c-4e84-b2e5-47d53f82579f"
      },
      "execution_count": 12,
      "outputs": [
        {
          "output_type": "execute_result",
          "data": {
            "text/plain": [
              "True"
            ]
          },
          "metadata": {},
          "execution_count": 12
        }
      ]
    },
    {
      "cell_type": "markdown",
      "source": [
        "Question 8\n",
        "You are given an integer array nums and an integer k.\n",
        "\n",
        "In one operation, you can choose any index i where 0 <= i < nums.length and change nums[i] to nums[i] + x where x is an integer from the range [-k, k]. You can apply this operation at most once for each index i.\n",
        "\n",
        "The score of nums is the difference between the maximum and minimum elements in nums.\n",
        "\n",
        "Return the minimum score of nums after applying the mentioned operation at most once for each index in it.\n",
        "\n",
        "Example 1:\n",
        "Input: nums = [1], k = 0\n",
        "Output: 0\n",
        "\n",
        "Explanation: The score is max(nums) - min(nums) = 1 - 1 = 0."
      ],
      "metadata": {
        "id": "d0OgGOCEWw_0"
      }
    },
    {
      "cell_type": "code",
      "source": [
        "def smallestRange(nums,k):\n",
        "    if not k and len(nums)==1:\n",
        "        return 0\n",
        "    Min = min(nums)+k\n",
        "    Max = max(nums)-k\n",
        "    if Min>Max:\n",
        "        return 0\n",
        "    else:\n",
        "        return Max-Min\n",
        "nums = [1]\n",
        "k = 0\n",
        "smallestRange(nums,k)"
      ],
      "metadata": {
        "colab": {
          "base_uri": "https://localhost:8080/"
        },
        "id": "G9FA6x76YfIz",
        "outputId": "82a1f016-99fa-4948-de83-2fd6718ff615"
      },
      "execution_count": 13,
      "outputs": [
        {
          "output_type": "execute_result",
          "data": {
            "text/plain": [
              "0"
            ]
          },
          "metadata": {},
          "execution_count": 13
        }
      ]
    }
  ]
}
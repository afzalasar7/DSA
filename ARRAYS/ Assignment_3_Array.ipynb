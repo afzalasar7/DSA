{
  "nbformat": 4,
  "nbformat_minor": 0,
  "metadata": {
    "colab": {
      "provenance": [],
      "authorship_tag": "ABX9TyNeZ7VZq/CShf0yBE6guoPh",
      "include_colab_link": true
    },
    "kernelspec": {
      "name": "python3",
      "display_name": "Python 3"
    },
    "language_info": {
      "name": "python"
    }
  },
  "cells": [
    {
      "cell_type": "markdown",
      "metadata": {
        "id": "view-in-github",
        "colab_type": "text"
      },
      "source": [
        "<a href=\"https://colab.research.google.com/github/afzalasar7/DSA/blob/main/ARRAYS/%20Assignment_3_Array.ipynb\" target=\"_parent\"><img src=\"https://colab.research.google.com/assets/colab-badge.svg\" alt=\"Open In Colab\"/></a>"
      ]
    },
    {
      "cell_type": "markdown",
      "source": [
        "Question 1\n",
        "Given an integer array nums of length n and an integer target, find three integers\n",
        "in nums such that the sum is closest to the target.\n",
        "Return the sum of the three integers.\n",
        "\n",
        "You may assume that each input would have exactly one solution.\n",
        "\n",
        "Example 1:\n",
        "Input: nums = [-1,2,1,-4], target = 1\n",
        "Output: 2\n",
        "\n",
        "Explanation: The sum that is closest to the target is 2. (-1 + 2 + 1 = 2)"
      ],
      "metadata": {
        "id": "u-Q05iwkL6Mv"
      }
    },
    {
      "cell_type": "code",
      "source": [
        "def threeSumClosest(nums, target):\n",
        "    nums.sort()\n",
        "    return KSumClosest(nums, 3, target)\n",
        "\n",
        "def KSumClosest(nums, k, target):\n",
        "    N = len(nums)\n",
        "    if N == k:\n",
        "        return sum(nums[:k])\n",
        "\n",
        "    # target too small\n",
        "    current = sum(nums[:k])\n",
        "    if current >= target:\n",
        "        return current\n",
        "\n",
        "    # target too big\n",
        "    current = sum(nums[-k:])\n",
        "    if current <= target:\n",
        "        return current\n",
        "\n",
        "    if k == 1:\n",
        "        return min([(x, abs(target - x)) for x in nums], key=lambda x: x[1])[0]\n",
        "\n",
        "    closest = sum(nums[:k])\n",
        "    for i, x in enumerate(nums[:-k+1]):\n",
        "        if i > 0 and x == nums[i-1]:\n",
        "            continue\n",
        "        current = KSumClosest(nums[i+1:], k-1, target - x) + x\n",
        "        if abs(target - current) < abs(target - closest):\n",
        "            if current == target:\n",
        "                return target\n",
        "            else:\n",
        "                closest = current\n",
        "\n",
        "    return closest\n",
        "nums = [-1,2,1,-4]\n",
        "target = 1\n",
        "threeSumClosest(nums, target)"
      ],
      "metadata": {
        "colab": {
          "base_uri": "https://localhost:8080/"
        },
        "id": "f_2ZYxdGOM0J",
        "outputId": "8a0f1a5d-9431-4ac3-f859-1961f3dc5c3b"
      },
      "execution_count": 3,
      "outputs": [
        {
          "output_type": "execute_result",
          "data": {
            "text/plain": [
              "2"
            ]
          },
          "metadata": {},
          "execution_count": 3
        }
      ]
    },
    {
      "cell_type": "markdown",
      "source": [
        "\n",
        "Question 2\n",
        "Given an array nums of n integers, return an array of all the unique quadruplets\n",
        "[nums[a], nums[b], nums[c], nums[d]] such that:\n",
        "           ● 0 <= a, b, c, d < n\n",
        "           ● a, b, c, and d are distinct.\n",
        "           ● nums[a] + nums[b] + nums[c] + nums[d] == target\n",
        "\n",
        "You may return the answer in any order.\n",
        "\n",
        "Example 1:\n",
        "Input: nums = [1,0,-1,0,-2,2], target = 0\n",
        "Output: [[-2,-1,1,2],[-2,0,0,2],[-1,0,0,1]]"
      ],
      "metadata": {
        "id": "UiR5acCJMiLt"
      }
    },
    {
      "cell_type": "code",
      "source": [
        "def fourSum(nums, target):\n",
        "    nums.sort()\n",
        "    i = 0\n",
        "    L = len(nums)\n",
        "    res = []\n",
        "    while i < L - 3:\n",
        "        j = i + 1\n",
        "        while j < L - 2:\n",
        "            left = j + 1\n",
        "            right = L - 1\n",
        "            new_target = target - nums[i] - nums[j]\n",
        "            while left < right:\n",
        "                if nums[left] + nums[right] > new_target:\n",
        "                    right -= 1\n",
        "                elif nums[left] + nums[right] < new_target:\n",
        "                    left += 1\n",
        "                else:\n",
        "                    res.append([nums[i], nums[j], nums[left], nums[right]])\n",
        "                    temp_left = nums[left]\n",
        "                    temp_right = nums[right]\n",
        "                    while left < right and nums[left] == temp_left:\n",
        "                        left += 1\n",
        "                    while left < right and nums[right] == temp_right:\n",
        "                        right -= 1\n",
        "            while j < L - 3 and nums[j] == nums[j + 1]:\n",
        "                j += 1\n",
        "            j += 1\n",
        "        while i < L - 4 and nums[i] == nums[i + 1]:\n",
        "            i += 1\n",
        "        i += 1\n",
        "    return res\n",
        "\n",
        "\n",
        "nums = [1,0,-1,0,-2,2]\n",
        "target = 0\n",
        "fourSum(nums, target)"
      ],
      "metadata": {
        "colab": {
          "base_uri": "https://localhost:8080/"
        },
        "id": "e3RGsyX7ONzX",
        "outputId": "a8c827d9-d1f8-48ba-f3e9-cb3dcffd9cda"
      },
      "execution_count": 4,
      "outputs": [
        {
          "output_type": "execute_result",
          "data": {
            "text/plain": [
              "[[-2, -1, 1, 2], [-2, 0, 0, 2], [-1, 0, 0, 1]]"
            ]
          },
          "metadata": {},
          "execution_count": 4
        }
      ]
    },
    {
      "cell_type": "markdown",
      "source": [
        "Question 3\n",
        "A permutation of an array of integers is an arrangement of its members into a\n",
        "sequence or linear order.\n",
        "\n",
        "For example, for arr = [1,2,3], the following are all the permutations of arr:\n",
        "[1,2,3], [1,3,2], [2, 1, 3], [2, 3, 1], [3,1,2], [3,2,1].\n",
        "\n",
        "The next permutation of an array of integers is the next lexicographically greater\n",
        "permutation of its integer. More formally, if all the permutations of the array are\n",
        "sorted in one container according to their lexicographical order, then the next\n",
        "permutation of that array is the permutation that follows it in the sorted container.\n",
        "\n",
        "If such an arrangement is not possible, the array must be rearranged as the\n",
        "lowest possible order (i.e., sorted in ascending order).\n",
        "\n",
        "● For example, the next permutation of arr = [1,2,3] is [1,3,2].\n",
        "● Similarly, the next permutation of arr = [2,3,1] is [3,1,2].\n",
        "● While the next permutation of arr = [3,2,1] is [1,2,3] because [3,2,1] does not\n",
        "have a lexicographical larger rearrangement.\n",
        "\n",
        "Given an array of integers nums, find the next permutation of nums.\n",
        "The replacement must be in place and use only constant extra memory.\n",
        "\n",
        "**Example 1:**\n",
        "Input: nums = [1,2,3]\n",
        "Output: [1,3,2]\n",
        "\n",
        "</aside>"
      ],
      "metadata": {
        "id": "jo9bCoOCN2jy"
      }
    },
    {
      "cell_type": "code",
      "source": [
        "def nextPermutation(nums):\n",
        "    L = len(nums)\n",
        "    for i in reversed(range(L - 1)):\n",
        "        # Search\n",
        "        cand = -1\n",
        "        for j in range(i + 1, L):\n",
        "            if nums[j] > nums[i]:\n",
        "                if cand < 0 or nums[j] < nums[cand]:\n",
        "                    cand = j\n",
        "        if cand < 0:\n",
        "            continue\n",
        "\n",
        "        # Swap\n",
        "        nums[i], nums[cand] = nums[cand], nums[i]\n",
        "\n",
        "        # Insertion sort\n",
        "        j = i + 2\n",
        "        while j < L:\n",
        "            k = j\n",
        "            while k - 1 > i and nums[k - 1] > nums[k]:\n",
        "                nums[k - 1], nums[k] = nums[k], nums[k - 1]\n",
        "                k -= 1\n",
        "\n",
        "            j += 1\n",
        "\n",
        "        break\n",
        "    else:\n",
        "        nums.reverse()\n",
        "    return nums\n",
        "nums = [1,2,3]\n",
        "nextPermutation(nums)\n"
      ],
      "metadata": {
        "colab": {
          "base_uri": "https://localhost:8080/"
        },
        "id": "XdYtb6W9QKit",
        "outputId": "ea866b4d-85f2-4be6-8090-e411c4811824"
      },
      "execution_count": 7,
      "outputs": [
        {
          "output_type": "execute_result",
          "data": {
            "text/plain": [
              "[1, 3, 2]"
            ]
          },
          "metadata": {},
          "execution_count": 7
        }
      ]
    },
    {
      "cell_type": "markdown",
      "source": [
        "Question 4\n",
        "Given a sorted array of distinct integers and a target value, return the index if the\n",
        "target is found. If not, return the index where it would be if it were inserted in\n",
        "order.\n",
        "\n",
        "You must write an algorithm with O(log n) runtime complexity.\n",
        "\n",
        "Example 1:\n",
        "Input: nums = [1,3,5,6], target = 5\n",
        "Output: 2"
      ],
      "metadata": {
        "id": "lYw33FBzN-ha"
      }
    },
    {
      "cell_type": "code",
      "source": [
        "def searchInsert(nums, target):\n",
        "    i = 0\n",
        "    j = len(nums) - 1\n",
        "    while i <= j:\n",
        "        pivot = (i + j) // 2\n",
        "        if nums[pivot] == target:\n",
        "            return pivot\n",
        "        elif nums[pivot] > target:\n",
        "            j = pivot - 1\n",
        "        else:\n",
        "            i = pivot + 1\n",
        "    return i\n",
        "nums = [1,3,5,6]\n",
        "target = 5\n",
        "searchInsert(nums, target)"
      ],
      "metadata": {
        "colab": {
          "base_uri": "https://localhost:8080/"
        },
        "id": "6RFdUNPkOS3i",
        "outputId": "ee409b4e-c77f-4983-ec71-776cc0201934"
      },
      "execution_count": 10,
      "outputs": [
        {
          "output_type": "execute_result",
          "data": {
            "text/plain": [
              "2"
            ]
          },
          "metadata": {},
          "execution_count": 10
        }
      ]
    },
    {
      "cell_type": "markdown",
      "source": [
        "Question 5\n",
        "You are given a large integer represented as an integer array digits, where each\n",
        "digits[i] is the ith digit of the integer. The digits are ordered from most significant\n",
        "to least significant in left-to-right order. The large integer does not contain any\n",
        "leading 0's.\n",
        "\n",
        "Increment the large integer by one and return the resulting array of digits.\n",
        "\n",
        "**Example 1:**\n",
        "Input: digits = [1,2,3]\n",
        "Output: [1,2,4]\n",
        "\n",
        "**Explanation:** The array represents the integer 123.\n",
        "Incrementing by one gives 123 + 1 = 124.\n",
        "Thus, the result should be [1,2,4].\n",
        "\n",
        "</aside>"
      ],
      "metadata": {
        "id": "KBmdtnJ1OBKb"
      }
    },
    {
      "cell_type": "code",
      "source": [
        "def plusOne(digits):\n",
        "    one = 1\n",
        "    i = 0\n",
        "    digits = digits[::-1]\n",
        "\n",
        "    while one:\n",
        "        if i < len(digits):\n",
        "            if digits[i] == 9:\n",
        "                digits[i] = 0\n",
        "            else:\n",
        "                digits[i] += 1\n",
        "                one = 0\n",
        "        else:\n",
        "            digits.append(one)\n",
        "            one = 0\n",
        "        i += 1\n",
        "    return digits[::-1]\n",
        "digits = [1,2,3]\n",
        "plusOne(digits)"
      ],
      "metadata": {
        "colab": {
          "base_uri": "https://localhost:8080/"
        },
        "id": "91V8HONMOWsR",
        "outputId": "e019a354-a2f8-4fa4-df5f-1cabe0633994"
      },
      "execution_count": 11,
      "outputs": [
        {
          "output_type": "execute_result",
          "data": {
            "text/plain": [
              "[1, 2, 4]"
            ]
          },
          "metadata": {},
          "execution_count": 11
        }
      ]
    },
    {
      "cell_type": "markdown",
      "source": [
        "Question 6\n",
        "Given a non-empty array of integers nums, every element appears twice except\n",
        "for one. Find that single one.\n",
        "\n",
        "You must implement a solution with a linear runtime complexity and use only\n",
        "constant extra space.\n",
        "\n",
        "Example 1:\n",
        "Input: nums = [2,2,1]\n",
        "Output: 1"
      ],
      "metadata": {
        "id": "zkxzY1p8OCqU"
      }
    },
    {
      "cell_type": "code",
      "source": [
        "def singleNumber(nums):\n",
        "    d = {}\n",
        "    for i in nums:\n",
        "        if i in d:\n",
        "            d[i] += 1\n",
        "        else:\n",
        "            d[i] = 1\n",
        "    for a, b in d.items():\n",
        "        if b == 1:\n",
        "            return a\n",
        "\n",
        "nums = [2,2,1]\n",
        "singleNumber(nums)"
      ],
      "metadata": {
        "colab": {
          "base_uri": "https://localhost:8080/"
        },
        "id": "eLiESD-lOXKk",
        "outputId": "0f5411a7-60ad-40d1-9ad5-70dd4200a833"
      },
      "execution_count": 12,
      "outputs": [
        {
          "output_type": "execute_result",
          "data": {
            "text/plain": [
              "1"
            ]
          },
          "metadata": {},
          "execution_count": 12
        }
      ]
    },
    {
      "cell_type": "markdown",
      "source": [
        "Question 7\n",
        "You are given an inclusive range [lower, upper] and a sorted unique integer array\n",
        "nums, where all elements are within the inclusive range.\n",
        "\n",
        "A number x is considered missing if x is in the range [lower, upper] and x is not in\n",
        "nums.\n",
        "\n",
        "Return the shortest sorted list of ranges that exactly covers all the missing\n",
        "numbers. That is, no element of nums is included in any of the ranges, and each\n",
        "missing number is covered by one of the ranges.\n",
        "\n",
        "**Example 1:**\n",
        "Input: nums = [0,1,3,50,75], lower = 0, upper = 99\n",
        "Output: [[2,2],[4,49],[51,74],[76,99]]\n",
        "\n",
        "**Explanation:** The ranges are:\n",
        "[2,2]\n",
        "[4,49]\n",
        "[51,74]\n",
        "[76,99]\n",
        "\n",
        "</aside>\n",
        "\n",
        "<aside>\n"
      ],
      "metadata": {
        "id": "JIh2VgroOFFd"
      }
    },
    {
      "cell_type": "code",
      "source": [
        "def findMissingRanges(nums, lower, upper):\n",
        "    def formatRange(start, end):\n",
        "        if start == end:\n",
        "            return [start]\n",
        "        else:\n",
        "            return [start, end]\n",
        "\n",
        "    result = []\n",
        "    prev = lower - 1\n",
        "\n",
        "    for num in nums:\n",
        "        if num > prev + 1:\n",
        "            result.append(formatRange(prev + 1, num - 1))\n",
        "        prev = num\n",
        "\n",
        "    if upper > prev:\n",
        "        result.append(formatRange(prev + 1, upper))\n",
        "    result[0].append\n",
        "    return result\n",
        "\n",
        "nums = [0, 1, 3, 50, 75]\n",
        "lower = 0\n",
        "upper = 99\n",
        "output = findMissingRanges(nums, lower, upper)\n",
        "print(output)\n"
      ],
      "metadata": {
        "colab": {
          "base_uri": "https://localhost:8080/"
        },
        "id": "M4uf7lubOaYS",
        "outputId": "c9bb9386-09d3-4000-a06a-ecef1b0e7a41"
      },
      "execution_count": 28,
      "outputs": [
        {
          "output_type": "stream",
          "name": "stdout",
          "text": [
            "[[2, 2], [4, 49], [51, 74], [76, 99]]\n"
          ]
        }
      ]
    },
    {
      "cell_type": "markdown",
      "source": [
        "Question 8\n",
        "Given an array of meeting time intervals where intervals[i] = [starti, endi], determine if a person could attend all meetings. **Example 1:** Input: intervals = [[0,30],[5,10],[15,20]] Output:"
      ],
      "metadata": {
        "id": "7JCcPXNLOa5a"
      }
    },
    {
      "cell_type": "code",
      "source": [
        "def canAttendMeetings(intervals):\n",
        "\n",
        "    intervals.sort(key=lambda x: x[0])\n",
        "\n",
        "\n",
        "    for i in range(1, len(intervals)):\n",
        "        if intervals[i][0] < intervals[i-1][1]:\n",
        "            return False\n",
        "\n",
        "    return True\n",
        "intervals = [[0, 30], [5, 10], [15, 20]]\n",
        "output = canAttendMeetings(intervals)\n",
        "print(output)\n"
      ],
      "metadata": {
        "colab": {
          "base_uri": "https://localhost:8080/"
        },
        "id": "hOQEzuRkW-ug",
        "outputId": "b3390f4e-6abf-489d-8b00-13fbeb651091"
      },
      "execution_count": 29,
      "outputs": [
        {
          "output_type": "stream",
          "name": "stdout",
          "text": [
            "False\n"
          ]
        }
      ]
    }
  ]
}